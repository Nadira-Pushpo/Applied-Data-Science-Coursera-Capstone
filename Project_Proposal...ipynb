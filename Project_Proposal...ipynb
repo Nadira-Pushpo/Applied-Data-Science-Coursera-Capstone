{
 "cells": [
  {
   "cell_type": "markdown",
   "metadata": {},
   "source": [
    "# Capstone Project Proposal\n",
    "# Applied-Data-Science-Coursera-Capstone\n",
    "### Nadira Akter Puspo\n",
    "### December 2023\n",
    "---"
   ]
  },
  {
   "cell_type": "markdown",
   "metadata": {},
   "source": [
    "### Introduction\n",
    "\n",
    "This notebook contains the project proposal as the Week 5 peer-graded assignment for the Course IBM Applied Data Science Capstone on Coursera, which requires define a problem for the captsone project. \n",
    "\n",
    "---"
   ]
  },
  {
   "cell_type": "markdown",
   "metadata": {},
   "source": [
    "### Problem description\n",
    "\n",
    "Similar to Tesla, SpaceX is a disruptive aircraft manufacturer, space transportation services provider, and communications company founded by Elon Musk.Despite being younger than 20 years old, SpaceX has already managed to cut costs by more than 50% when compared to other companies, and when the Starship project is finished, they plan to cut costs by 99%.\n",
    "\n",
    "This is because, at 70% of the rocket's cost, SpaceX has created technology to land the first stage booster.They can reuse the launcher and save money on launch costs by successfully landing it.\n",
    "\n",
    "\n",
    "Because using their repurposed boosters was 50% less expensive than using new ones, SpaceX has become the industry leader.\n",
    "\n",
    "\n",
    "In order to gain insights and forecast a safe booster landing for the drone ship, we will be analyzing data from the wiki that has been retrieved using web scraping and the SpaceX API for this capstone project."
   ]
  }
 ],
 "metadata": {
  "kernelspec": {
   "display_name": "Python 3",
   "language": "python",
   "name": "python3"
  },
  "language_info": {
   "codemirror_mode": {
    "name": "ipython",
    "version": 3
   },
   "file_extension": ".py",
   "mimetype": "text/x-python",
   "name": "python",
   "nbconvert_exporter": "python",
   "pygments_lexer": "ipython3",
   "version": "3.6.8"
  }
 },
 "nbformat": 4,
 "nbformat_minor": 4
}
