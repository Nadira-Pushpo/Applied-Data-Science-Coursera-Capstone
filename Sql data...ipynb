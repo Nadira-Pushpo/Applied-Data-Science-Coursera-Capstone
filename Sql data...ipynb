{
    "cells": [
        {
            "cell_type": "markdown",
            "metadata": {},
            "source": [
                "<center>\n",
                "    <img src=\"https://gitlab.com/ibm/skills-network/courses/placeholder101/-/raw/master/labs/module%201/images/IDSNlogo.png\"  width=\"300\" alt=\"cognitiveclass.ai logo\"  />\n",
                "</center>\n",
                "\n",
                "<h1 align=center><font size = 5>Assignment: SQL Notebook for Peer Assignment</font></h1>\n",
                "\n",
                "\n",
                "\n"
            ]
        },
        {
            "cell_type": "markdown",
            "metadata": {},
            "source": [
                "## Overview of the DataSet\n",
                "\n",
                "SpaceX has gained worldwide attention for a series of historic milestones.\n",
                "\n",
                "It is the only private company ever to return a spacecraft from low-earth orbit, which it first accomplished in December 2010.\n",
                "SpaceX advertises Falcon 9 rocket launches on its website with a cost of 62 million dollars wheras other providers cost upward of 165 million dollars each, much of the savings is because Space X can reuse the first stage.\n",
                "\n",
                "Therefore if we can determine if the first stage will land, we can determine the cost of a launch.\n",
                "\n",
                "This information can be used if an alternate company wants to bid against SpaceX for a rocket launch.\n",
                "\n",
                "This dataset includes a record for each payload carried during a SpaceX mission into outer space.\n"
            ]
        },
        {
            "cell_type": "markdown",
            "metadata": {},
            "source": [
                "### Task 2\n",
                "\n",
                "##### Display 5 records where launch sites begin with the string 'CCA'\n"
            ]
        },
        {
            "cell_type": "code",
            "execution_count": 173,
            "metadata": {},
            "outputs": [
                {
                    "name": "stdout",
                    "output_type": "stream",
                    "text": [
                        " * ibm_db_sa://cdp97036:***@1bbf73c5-d84a-4bb0-85b9-ab1a4348f4a4.c3n41cmd0nqnrk39u98g.databases.appdomain.cloud:32286/bludb\n",
                        "Done.\n"
                    ]
                },
                {
                    "data": {
                        "text/html": [
                            "<table>\n",
                            "    <tr>\n",
                            "        <th>DATE</th>\n",
                            "        <th>time__utc_</th>\n",
                            "        <th>booster_version</th>\n",
                            "        <th>launch_site</th>\n",
                            "        <th>payload</th>\n",
                            "        <th>payload_mass__kg_</th>\n",
                            "        <th>orbit</th>\n",
                            "        <th>customer</th>\n",
                            "        <th>mission_outcome</th>\n",
                            "        <th>landing__outcome</th>\n",
                            "    </tr>\n",
                            "    <tr>\n",
                            "        <td>19-02-2017</td>\n",
                            "        <td>14:39:00</td>\n",
                            "        <td>F9 FT B1031.1</td>\n",
                            "        <td>KSC LC-39A</td>\n",
                            "        <td>SpaceX CRS-10</td>\n",
                            "        <td>2490</td>\n",
                            "        <td>LEO (ISS)</td>\n",
                            "        <td>NASA (CRS)</td>\n",
                            "        <td>Success</td>\n",
                            "        <td>Success (ground pad)</td>\n",
                            "    </tr>\n",
                            "    <tr>\n",
                            "        <td>16-03-2017</td>\n",
                            "        <td>06:00:00</td>\n",
                            "        <td>F9 FT B1030</td>\n",
                            "        <td>KSC LC-39A</td>\n",
                            "        <td>EchoStar 23</td>\n",
                            "        <td>5600</td>\n",
                            "        <td>GTO</td>\n",
                            "        <td>EchoStar</td>\n",
                            "        <td>Success</td>\n",
                            "        <td>No attempt</td>\n",
                            "    </tr>\n",
                            "    <tr>\n",
                            "        <td>30-03-2017</td>\n",
                            "        <td>22:27:00</td>\n",
                            "        <td>F9 FT  B1021.2</td>\n",
                            "        <td>KSC LC-39A</td>\n",
                            "        <td>SES-10</td>\n",
                            "        <td>5300</td>\n",
                            "        <td>GTO</td>\n",
                            "        <td>SES</td>\n",
                            "        <td>Success</td>\n",
                            "        <td>Success (drone ship)</td>\n",
                            "    </tr>\n",
                            "    <tr>\n",
                            "        <td>01-05-2017</td>\n",
                            "        <td>11:15:00</td>\n",
                            "        <td>F9 FT B1032.1</td>\n",
                            "        <td>KSC LC-39A</td>\n",
                            "        <td>NROL-76</td>\n",
                            "        <td>5300</td>\n",
                            "        <td>LEO</td>\n",
                            "        <td>NRO</td>\n",
                            "        <td>Success</td>\n",
                            "        <td>Success (ground pad)</td>\n",
                            "    </tr>\n",
                            "    <tr>\n",
                            "        <td>15-05-2017</td>\n",
                            "        <td>23:21:00</td>\n",
                            "        <td>F9 FT B1034</td>\n",
                            "        <td>KSC LC-39A</td>\n",
                            "        <td>Inmarsat-5 F4</td>\n",
                            "        <td>6070</td>\n",
                            "        <td>GTO</td>\n",
                            "        <td>Inmarsat</td>\n",
                            "        <td>Success</td>\n",
                            "        <td>No attempt</td>\n",
                            "    </tr>\n",
                            "</table>"
                        ],
                        "text/plain": [
                            "[('19-02-2017', '14:39:00', 'F9 FT B1031.1', 'KSC LC-39A', 'SpaceX CRS-10', 2490, 'LEO (ISS)', 'NASA (CRS)', 'Success', 'Success (ground pad)'),\n",
                            " ('16-03-2017', '06:00:00', 'F9 FT B1030', 'KSC LC-39A', 'EchoStar 23', 5600, 'GTO', 'EchoStar', 'Success', 'No attempt'),\n",
                            " ('30-03-2017', '22:27:00', 'F9 FT  B1021.2', 'KSC LC-39A', 'SES-10', 5300, 'GTO', 'SES', 'Success', 'Success (drone ship)'),\n",
                            " ('01-05-2017', '11:15:00', 'F9 FT B1032.1', 'KSC LC-39A', 'NROL-76', 5300, 'LEO', 'NRO', 'Success', 'Success (ground pad)'),\n",
                            " ('15-05-2017', '23:21:00', 'F9 FT B1034', 'KSC LC-39A', 'Inmarsat-5 F4', 6070, 'GTO', 'Inmarsat', 'Success', 'No attempt')]"
                        ]
                    },
                    "execution_count": 173,
                    "metadata": {},
                    "output_type": "execute_result"
                }
            ],
            "source": [
                "%%sql \n",
                "select* from SPACE WHERE Launch_Site LIKE 'KSC%' limit 5\n",
                "\n",
                "\n"
            ]
        },
        {
            "cell_type": "markdown",
            "metadata": {},
            "source": [
                "### Task 3\n",
                "\n",
                "##### Display the total payload mass carried by boosters launched by NASA (CRS)\n"
            ]
        },
        {
            "cell_type": "code",
            "execution_count": 174,
            "metadata": {},
            "outputs": [
                {
                    "name": "stdout",
                    "output_type": "stream",
                    "text": [
                        " * ibm_db_sa://cdp97036:***@1bbf73c5-d84a-4bb0-85b9-ab1a4348f4a4.c3n41cmd0nqnrk39u98g.databases.appdomain.cloud:32286/bludb\n",
                        "Done.\n"
                    ]
                },
                {
                    "data": {
                        "text/html": [
                            "<table>\n",
                            "    <tr>\n",
                            "        <th>1</th>\n",
                            "    </tr>\n",
                            "    <tr>\n",
                            "        <td>48213</td>\n",
                            "    </tr>\n",
                            "</table>"
                        ],
                        "text/plain": [
                            "[(48213,)]"
                        ]
                    },
                    "execution_count": 174,
                    "metadata": {},
                    "output_type": "execute_result"
                }
            ],
            "source": [
                "%%sql \n",
                "select sum(payload_mass__kg_) from SPACE  where customer LIKE '%CRS%' \n",
                "\n",
                "\n",
                " "
            ]
        },
        {
            "cell_type": "markdown",
            "metadata": {},
            "source": [
                "### Task 4\n",
                "\n",
                "##### Display average payload mass carried by booster version F9 v1.1\n"
            ]
        },
        {
            "cell_type": "code",
            "execution_count": 175,
            "metadata": {},
            "outputs": [
                {
                    "name": "stdout",
                    "output_type": "stream",
                    "text": [
                        " * ibm_db_sa://cdp97036:***@1bbf73c5-d84a-4bb0-85b9-ab1a4348f4a4.c3n41cmd0nqnrk39u98g.databases.appdomain.cloud:32286/bludb\n",
                        "Done.\n"
                    ]
                },
                {
                    "data": {
                        "text/html": [
                            "<table>\n",
                            "    <tr>\n",
                            "        <th>1</th>\n",
                            "    </tr>\n",
                            "    <tr>\n",
                            "        <td>2928</td>\n",
                            "    </tr>\n",
                            "</table>"
                        ],
                        "text/plain": [
                            "[(2928,)]"
                        ]
                    },
                    "execution_count": 175,
                    "metadata": {},
                    "output_type": "execute_result"
                }
            ],
            "source": [
                "%%sql \n",
                "select avg(payload_mass__kg_) from SPACE  where booster_version='F9 v1.1' "
            ]
        },
        {
            "cell_type": "markdown",
            "metadata": {},
            "source": [
                "### Task 5\n",
                "\n",
                "##### List the date when the first successful landing outcome in ground pad was acheived.\n",
                "\n",
                "*Hint:Use min function*\n"
            ]
        },
        {
            "cell_type": "code",
            "execution_count": 176,
            "metadata": {},
            "outputs": [
                {
                    "name": "stdout",
                    "output_type": "stream",
                    "text": [
                        " * ibm_db_sa://cdp97036:***@1bbf73c5-d84a-4bb0-85b9-ab1a4348f4a4.c3n41cmd0nqnrk39u98g.databases.appdomain.cloud:32286/bludb\n",
                        "(ibm_db_dbi.ProgrammingError) ibm_db_dbi::ProgrammingError: SQLNumResultCols failed: [IBM][CLI Driver][DB2/LINUXX8664] SQL0104N  An unexpected token \"(\" was found following \"select Date as CAST\".  Expected tokens may include:  \",\".  SQLSTATE=42601 SQLCODE=-104\n",
                        "[SQL: select Date as CAST(Date as DATE)  from  space ;]\n",
                        "(Background on this error at: http://sqlalche.me/e/f405)\n"
                    ]
                }
            ],
            "source": [
                "%%sql\n",
                "\n",
                "select Date as CAST(Date as DATE)  from  space ;\n"
            ]
        },
        {
            "cell_type": "code",
            "execution_count": 177,
            "metadata": {},
            "outputs": [],
            "source": [
                "# select MIN() SLO from SPACE where Landing_Outcome = 'Success (drone ship)'\""
            ]
        },
        {
            "cell_type": "markdown",
            "metadata": {},
            "source": [
                "### Task 6\n",
                "\n",
                "##### List the names of the boosters which have success in drone ship and have payload mass greater than 4000 but less than 6000\n"
            ]
        },
        {
            "cell_type": "code",
            "execution_count": 178,
            "metadata": {},
            "outputs": [
                {
                    "name": "stdout",
                    "output_type": "stream",
                    "text": [
                        " * ibm_db_sa://cdp97036:***@1bbf73c5-d84a-4bb0-85b9-ab1a4348f4a4.c3n41cmd0nqnrk39u98g.databases.appdomain.cloud:32286/bludb\n",
                        "Done.\n"
                    ]
                },
                {
                    "data": {
                        "text/html": [
                            "<table>\n",
                            "    <tr>\n",
                            "        <th>booster_version</th>\n",
                            "    </tr>\n",
                            "    <tr>\n",
                            "        <td>F9 FT B1020</td>\n",
                            "    </tr>\n",
                            "    <tr>\n",
                            "        <td>F9 FT B1022</td>\n",
                            "    </tr>\n",
                            "    <tr>\n",
                            "        <td>F9 FT B1026</td>\n",
                            "    </tr>\n",
                            "    <tr>\n",
                            "        <td>F9 FT  B1021.2</td>\n",
                            "    </tr>\n",
                            "    <tr>\n",
                            "        <td>F9 FT  B1031.2</td>\n",
                            "    </tr>\n",
                            "</table>"
                        ],
                        "text/plain": [
                            "[('F9 FT B1020',),\n",
                            " ('F9 FT B1022',),\n",
                            " ('F9 FT B1026',),\n",
                            " ('F9 FT  B1021.2',),\n",
                            " ('F9 FT  B1031.2',)]"
                        ]
                    },
                    "execution_count": 178,
                    "metadata": {},
                    "output_type": "execute_result"
                }
            ],
            "source": [
                "%%sql\n",
                "\n",
                "select  booster_version from   SPACE  where landing__outcome LIKE '%drone ship%' and payload_mass__kg_>=4000 and payload_mass__kg_<=6000\n"
            ]
        },
        {
            "cell_type": "markdown",
            "metadata": {},
            "source": [
                "### Task 7\n",
                "\n",
                "##### List the total number of successful and failure mission outcomes\n"
            ]
        },
        {
            "cell_type": "code",
            "execution_count": 179,
            "metadata": {},
            "outputs": [
                {
                    "name": "stdout",
                    "output_type": "stream",
                    "text": [
                        " * ibm_db_sa://cdp97036:***@1bbf73c5-d84a-4bb0-85b9-ab1a4348f4a4.c3n41cmd0nqnrk39u98g.databases.appdomain.cloud:32286/bludb\n",
                        "Done.\n"
                    ]
                },
                {
                    "data": {
                        "text/html": [
                            "<table>\n",
                            "    <tr>\n",
                            "        <th>1</th>\n",
                            "    </tr>\n",
                            "    <tr>\n",
                            "        <td>100</td>\n",
                            "    </tr>\n",
                            "</table>"
                        ],
                        "text/plain": [
                            "[(100,)]"
                        ]
                    },
                    "execution_count": 179,
                    "metadata": {},
                    "output_type": "execute_result"
                }
            ],
            "source": [
                "%%sql\n",
                "SELECT Count(mission_outcome) from SPACE where mission_outcome LIKE '%Success%' \n"
            ]
        },
        {
            "cell_type": "code",
            "execution_count": 180,
            "metadata": {},
            "outputs": [
                {
                    "name": "stdout",
                    "output_type": "stream",
                    "text": [
                        " * ibm_db_sa://cdp97036:***@1bbf73c5-d84a-4bb0-85b9-ab1a4348f4a4.c3n41cmd0nqnrk39u98g.databases.appdomain.cloud:32286/bludb\n",
                        "Done.\n"
                    ]
                },
                {
                    "data": {
                        "text/html": [
                            "<table>\n",
                            "    <tr>\n",
                            "        <th>1</th>\n",
                            "    </tr>\n",
                            "    <tr>\n",
                            "        <td>1</td>\n",
                            "    </tr>\n",
                            "</table>"
                        ],
                        "text/plain": [
                            "[(1,)]"
                        ]
                    },
                    "execution_count": 180,
                    "metadata": {},
                    "output_type": "execute_result"
                }
            ],
            "source": [
                "%%sql\n",
                "SELECT Count(mission_outcome) from SPACE where mission_outcome  NOT LIKE '%Success%' "
            ]
        },
        {
            "cell_type": "markdown",
            "metadata": {},
            "source": [
                "### Task 8\n",
                "\n",
                "##### List the   names of the booster_versions which have carried the maximum payload mass. Use a subquery\n"
            ]
        },
        {
            "cell_type": "code",
            "execution_count": 181,
            "metadata": {},
            "outputs": [
                {
                    "name": "stdout",
                    "output_type": "stream",
                    "text": [
                        " * ibm_db_sa://cdp97036:***@1bbf73c5-d84a-4bb0-85b9-ab1a4348f4a4.c3n41cmd0nqnrk39u98g.databases.appdomain.cloud:32286/bludb\n",
                        "Done.\n"
                    ]
                },
                {
                    "data": {
                        "text/html": [
                            "<table>\n",
                            "    <tr>\n",
                            "        <th>booster_version</th>\n",
                            "    </tr>\n",
                            "    <tr>\n",
                            "        <td>F9 B5 B1048.4</td>\n",
                            "    </tr>\n",
                            "    <tr>\n",
                            "        <td>F9 B5 B1049.4</td>\n",
                            "    </tr>\n",
                            "    <tr>\n",
                            "        <td>F9 B5 B1051.3</td>\n",
                            "    </tr>\n",
                            "    <tr>\n",
                            "        <td>F9 B5 B1056.4</td>\n",
                            "    </tr>\n",
                            "    <tr>\n",
                            "        <td>F9 B5 B1048.5</td>\n",
                            "    </tr>\n",
                            "    <tr>\n",
                            "        <td>F9 B5 B1051.4</td>\n",
                            "    </tr>\n",
                            "    <tr>\n",
                            "        <td>F9 B5 B1049.5</td>\n",
                            "    </tr>\n",
                            "    <tr>\n",
                            "        <td>F9 B5 B1060.2</td>\n",
                            "    </tr>\n",
                            "    <tr>\n",
                            "        <td>F9 B5 B1058.3</td>\n",
                            "    </tr>\n",
                            "    <tr>\n",
                            "        <td>F9 B5 B1051.6</td>\n",
                            "    </tr>\n",
                            "    <tr>\n",
                            "        <td>F9 B5 B1060.3</td>\n",
                            "    </tr>\n",
                            "    <tr>\n",
                            "        <td>F9 B5 B1049.7</td>\n",
                            "    </tr>\n",
                            "</table>"
                        ],
                        "text/plain": [
                            "[('F9 B5 B1048.4',),\n",
                            " ('F9 B5 B1049.4',),\n",
                            " ('F9 B5 B1051.3',),\n",
                            " ('F9 B5 B1056.4',),\n",
                            " ('F9 B5 B1048.5',),\n",
                            " ('F9 B5 B1051.4',),\n",
                            " ('F9 B5 B1049.5',),\n",
                            " ('F9 B5 B1060.2',),\n",
                            " ('F9 B5 B1058.3',),\n",
                            " ('F9 B5 B1051.6',),\n",
                            " ('F9 B5 B1060.3',),\n",
                            " ('F9 B5 B1049.7',)]"
                        ]
                    },
                    "execution_count": 181,
                    "metadata": {},
                    "output_type": "execute_result"
                }
            ],
            "source": [
                "%%sql\n",
                "\n",
                "\n",
                "SELECT  booster_version FROM Space  where  payload_mass__kg_ = (Select Max(payload_mass__kg_) from space)\n",
                "\n"
            ]
        },
        {
            "cell_type": "markdown",
            "metadata": {},
            "source": [
                "### Task 9\n",
                "\n",
                "##### List the failed landing_outcomes in drone ship, their booster versions, and launch site names for in year 2015\n"
            ]
        },
        {
            "cell_type": "code",
            "execution_count": 182,
            "metadata": {},
            "outputs": [
                {
                    "name": "stdout",
                    "output_type": "stream",
                    "text": [
                        " * ibm_db_sa://cdp97036:***@1bbf73c5-d84a-4bb0-85b9-ab1a4348f4a4.c3n41cmd0nqnrk39u98g.databases.appdomain.cloud:32286/bludb\n",
                        "Done.\n"
                    ]
                },
                {
                    "data": {
                        "text/html": [
                            "<table>\n",
                            "    <tr>\n",
                            "        <th>booster_version</th>\n",
                            "        <th>launch_site</th>\n",
                            "        <th>landing__outcome</th>\n",
                            "        <th>DATE</th>\n",
                            "    </tr>\n",
                            "    <tr>\n",
                            "        <td>F9 v1.1 B1012</td>\n",
                            "        <td>CCAFS LC-40</td>\n",
                            "        <td>Failure (drone ship)</td>\n",
                            "        <td>10-01-2015</td>\n",
                            "    </tr>\n",
                            "    <tr>\n",
                            "        <td>F9 v1.1 B1015</td>\n",
                            "        <td>CCAFS LC-40</td>\n",
                            "        <td>Failure (drone ship)</td>\n",
                            "        <td>14-04-2015</td>\n",
                            "    </tr>\n",
                            "    <tr>\n",
                            "        <td>F9 v1.1 B1018</td>\n",
                            "        <td>CCAFS LC-40</td>\n",
                            "        <td>Precluded (drone ship)</td>\n",
                            "        <td>28-06-2015</td>\n",
                            "    </tr>\n",
                            "</table>"
                        ],
                        "text/plain": [
                            "[('F9 v1.1 B1012', 'CCAFS LC-40', 'Failure (drone ship)', '10-01-2015'),\n",
                            " ('F9 v1.1 B1015', 'CCAFS LC-40', 'Failure (drone ship)', '14-04-2015'),\n",
                            " ('F9 v1.1 B1018', 'CCAFS LC-40', 'Precluded (drone ship)', '28-06-2015')]"
                        ]
                    },
                    "execution_count": 182,
                    "metadata": {},
                    "output_type": "execute_result"
                }
            ],
            "source": [
                "%%sql \n",
                "select booster_version,launch_site,landing__outcome,DATE from space where landing__outcome LIKE '%drone%' AND DATE  LIKE '%2015'"
            ]
        },
        {
            "cell_type": "markdown",
            "metadata": {},
            "source": [
                "### Task 10\n",
                "\n",
                "##### Rank the count of landing outcomes (such as Failure (drone ship) or Success (ground pad)) between the date 2010-06-04 and 2017-03-20, in descending order\n"
            ]
        },
        {
            "cell_type": "code",
            "execution_count": 183,
            "metadata": {},
            "outputs": [
                {
                    "name": "stdout",
                    "output_type": "stream",
                    "text": [
                        " * ibm_db_sa://cdp97036:***@1bbf73c5-d84a-4bb0-85b9-ab1a4348f4a4.c3n41cmd0nqnrk39u98g.databases.appdomain.cloud:32286/bludb\n",
                        "Done.\n"
                    ]
                },
                {
                    "data": {
                        "text/html": [
                            "<table>\n",
                            "    <tr>\n",
                            "        <th>outcome</th>\n",
                            "        <th>total</th>\n",
                            "    </tr>\n",
                            "</table>"
                        ],
                        "text/plain": [
                            "[]"
                        ]
                    },
                    "execution_count": 183,
                    "metadata": {},
                    "output_type": "execute_result"
                }
            ],
            "source": [
                "%%sql\n",
                "select landing__outcome as OUTCOME,count(landing__outcome) as TOTAL  from space  where DATE>'2010-06-04' AND DATE<='2017-03-20' Group by landing__outcome\n"
            ]
        },
        {
            "cell_type": "markdown",
            "metadata": {},
            "source": [
                "### Reference Links\n",
                "\n",
                "*   <a href =\"https://cf-courses-data.s3.us.cloud-object-storage.appdomain.cloud/IBMDeveloperSkillsNetwork-DB0201EN-SkillsNetwork/labs/Labs_Coursera_V5/labs/Lab%20-%20String%20Patterns%20-%20Sorting%20-%20Grouping/instructional-labs.md.html?utm_medium=Exinfluencer&utm_source=Exinfluencer&utm_content=000026UJ&utm_term=10006555&utm_id=NA-SkillsNetwork-Channel-SkillsNetworkCoursesIBMDS0321ENSkillsNetwork26802033-2021-01-01&origin=www.coursera.org\">Hands-on Lab : String Patterns, Sorting and Grouping</a>\n",
                "\n",
                "*   <a  href=\"https://cf-courses-data.s3.us.cloud-object-storage.appdomain.cloud/IBMDeveloperSkillsNetwork-DB0201EN-SkillsNetwork/labs/Labs_Coursera_V5/labs/Lab%20-%20Built-in%20functions%20/Hands-on_Lab__Built-in_Functions.md.html?utm_medium=Exinfluencer&utm_source=Exinfluencer&utm_content=000026UJ&utm_term=10006555&utm_id=NA-SkillsNetwork-Channel-SkillsNetworkCoursesIBMDS0321ENSkillsNetwork26802033-2021-01-01&origin=www.coursera.org\">Hands-on Lab: Built-in functions</a>\n",
                "\n",
                "*   <a  href=\"https://cf-courses-data.s3.us.cloud-object-storage.appdomain.cloud/IBMDeveloperSkillsNetwork-DB0201EN-SkillsNetwork/labs/Labs_Coursera_V5/labs/Lab%20-%20Sub-queries%20and%20Nested%20SELECTs%20/instructional-labs.md.html?utm_medium=Exinfluencer&utm_source=Exinfluencer&utm_content=000026UJ&utm_term=10006555&utm_id=NA-SkillsNetwork-Channel-SkillsNetworkCoursesIBMDS0321ENSkillsNetwork26802033-2021-01-01&origin=www.coursera.org\">Hands-on Lab : Sub-queries and Nested SELECT Statements</a>\n",
                "\n",
                "*   <a href=\"https://cf-courses-data.s3.us.cloud-object-storage.appdomain.cloud/IBMDeveloperSkillsNetwork-DB0201EN-SkillsNetwork/labs/Module%205/DB0201EN-Week3-1-3-SQLmagic.ipynb?utm_medium=Exinfluencer&utm_source=Exinfluencer&utm_content=000026UJ&utm_term=10006555&utm_id=NA-SkillsNetwork-Channel-SkillsNetworkCoursesIBMDS0321ENSkillsNetwork26802033-2021-01-01\">Hands-on Tutorial: Accessing Databases with SQL magic</a>\n",
                "\n",
                "*   <a href= \"https://cf-courses-data.s3.us.cloud-object-storage.appdomain.cloud/IBMDeveloperSkillsNetwork-DB0201EN-SkillsNetwork/labs/Module%205/DB0201EN-Week3-1-4-Analyzing.ipynb?utm_medium=Exinfluencer&utm_source=Exinfluencer&utm_content=000026UJ&utm_term=10006555&utm_id=NA-SkillsNetwork-Channel-SkillsNetworkCoursesIBMDS0321ENSkillsNetwork26802033-2021-01-01\">Hands-on Lab: Analyzing a real World Data Set</a>\n"
            ]
        }
    ],
    "metadata": {
        "kernelspec": {
            "display_name": "Python 3.8",
            "language": "python",
            "name": "python3"
        },
        "language_info": {
            "codemirror_mode": {
                "name": "ipython",
                "version": 3
            },
            "file_extension": ".py",
            "mimetype": "text/x-python",
            "name": "python",
            "nbconvert_exporter": "python",
            "pygments_lexer": "ipython3",
            "version": "3.8.12"
        }
    },
    "nbformat": 4,
    "nbformat_minor": 4
}
